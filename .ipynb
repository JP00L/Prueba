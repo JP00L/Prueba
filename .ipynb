{
 "cells": [
  {
   "cell_type": "code",
   "execution_count": 22,
   "metadata": {},
   "outputs": [],
   "source": [
    "from google.oauth2.credentials import Credentials\n",
    "from googleapiclient.discovery import build\n",
    "from google.oauth2 import service_account\n",
    "import hashlib\n",
    "\n",
    "\n",
    "SCOPES = ['https://www.googleapis.com/auth/spreadsheets']\n",
    "KEY = 'key.json'\n",
    "SPREADSHEET_ID = ''\n",
    "LIST_RQUEST={\n",
    "   \"empleado\":{\n",
    "      \"id\":True,\n",
    "      \"Sheet\":\"empleado!A:F\"\n",
    "   },\n",
    "   \"MaquinaDeTrabajo\":{\n",
    "      \"id\":True,\n",
    "      \"Sheet\":\"MaquinaDeTrabajo!A:E\"\n",
    "   }\n",
    "   \n",
    "}\n",
    "creds = service_account.Credentials.from_service_account_file(KEY, scopes=SCOPES)\n",
    "service = build('sheets', 'v4', credentials=creds)\n",
    "sheet = service.spreadsheets()\n",
    "\n",
    "def Get(sesion,data):\n",
    "   try:\n",
    "      RANGE = 'empleado!A:F'\n",
    "      result = sheet.values().get(spreadsheetId=SPREADSHEET_ID, range=RANGE).execute()\n",
    "      values = result.get('values', [])\n",
    "      Index_Columnas= values[0].index(\"usuario\")\n",
    "      for Datos in values:\n",
    "         if Datos[Index_Columnas] != \"usuario\":\n",
    "            if Datos[Index_Columnas] == sesion[\"username\"]:\n",
    "               if Datos[Index_Columnas+2] == \"inactivo\":\n",
    "                  return f\"Usuario Deshabilitado\" \n",
    "               else:\n",
    "                  Lista=[]\n",
    "                  \n",
    "                  \n",
    "                  \n",
    "                  \n",
    "\n",
    "   except:\n",
    "      return \"Error Get\"\n",
    "   \n",
    "sesion={'_permanent': True, 'compani_Id': 1, 'loggedin': True, 'username': 'ADM'}\n",
    "\n",
    "data={\n",
    "   \"Sheet\":\"MaquinaDeTrabajo\",\n",
    "   \"Type\":\"Get\",\n",
    "}"
   ]
  },
  {
   "cell_type": "code",
   "execution_count": 20,
   "metadata": {},
   "outputs": [
    {
     "data": {
      "text/plain": [
       "'Usuario insertado exitosamente.'"
      ]
     },
     "execution_count": 20,
     "metadata": {},
     "output_type": "execute_result"
    }
   ],
   "source": [
    "def Login_Validation(username, password):\n",
    "   try:\n",
    "      creds = service_account.Credentials.from_service_account_file(KEY, scopes=SCOPES)\n",
    "      service = build('sheets', 'v4', credentials=creds)\n",
    "      sheet = service.spreadsheets()\n",
    "      RANGE = 'empleado!A:F'\n",
    "      result = sheet.values().get(spreadsheetId=SPREADSHEET_ID, range=RANGE).execute()\n",
    "      values = result.get('values', [])\n",
    "      Index_Columnas= values[0].index(\"usuario\")\n",
    "      for Datos in values:\n",
    "         if Datos[Index_Columnas] != \"usuario\":\n",
    "            if Datos[Index_Columnas] == username.strip():\n",
    "               if hashlib.sha256(password.encode()).hexdigest() == hashlib.sha256(Datos[Index_Columnas+1].encode()).hexdigest():\n",
    "                  if Datos[Index_Columnas+2] == \"inactivo\":\n",
    "                     return f\"Usuario Deshabilitado\" \n",
    "                  else:\n",
    "                     return True , Datos[Index_Columnas+3]\n",
    "               else:\n",
    "                  return f\"Contraseña Errada\"\n",
    "      return f\"Usuario No Regitra En La Compañia\"\n",
    "   except Exception as e:\n",
    "      return f\"Error en validar_usuario\"\n",
    "def Insert(sesion,data):\n",
    "    try:\n",
    "         creds = service_account.Credentials.from_service_account_file(KEY, scopes=SCOPES)\n",
    "         service = build('sheets', 'v4', credentials=creds)\n",
    "         sheet = service.spreadsheets()\n",
    "         \n",
    "         \n",
    "         \n",
    "         \n",
    "         \n",
    "         \n",
    "         RANGE = 'empleado!A:F'\n",
    "         result = sheet.values().get(spreadsheetId=SPREADSHEET_ID, range=RANGE).execute()\n",
    "         values = result.get('values', [])\n",
    "         nuevo_usuario = [int(len(values)),nombre, username, password, \"activo\", int(compania_id)]\n",
    "         RANGE = 'empleado!A:F'\n",
    "         sheet.values().append(\n",
    "            spreadsheetId=SPREADSHEET_ID,\n",
    "            range=RANGE,\n",
    "            valueInputOption=\"RAW\",\n",
    "            body={\"values\": [nuevo_usuario]}).execute()\n",
    "\n",
    "         return \"Usuario insertado exitosamente.\"\n",
    "\n",
    "    except Exception as e:\n",
    "        return f\"Error en insertar_usuario: {str(e)}\"\n",
    "def insertar_Empleados(nombre, username, password, compania_id):\n",
    "    try:\n",
    "         creds = service_account.Credentials.from_service_account_file(KEY, scopes=SCOPES)\n",
    "         service = build('sheets', 'v4', credentials=creds)\n",
    "         sheet = service.spreadsheets()\n",
    "         RANGE = 'empleado!A:F'\n",
    "         result = sheet.values().get(spreadsheetId=SPREADSHEET_ID, range=RANGE).execute()\n",
    "         values = result.get('values', [])\n",
    "         nuevo_usuario = [int(len(values)),nombre, username, password, \"activo\", int(compania_id)]\n",
    "         RANGE = 'empleado!A:F'\n",
    "         sheet.values().append(\n",
    "            spreadsheetId=SPREADSHEET_ID,\n",
    "            range=RANGE,\n",
    "            valueInputOption=\"RAW\",\n",
    "            body={\"values\": [nuevo_usuario]}).execute()\n",
    "\n",
    "         return \"Usuario insertado exitosamente.\"\n",
    "\n",
    "    except Exception as e:\n",
    "        return f\"Error en insertar_usuario: {str(e)}\"\n",
    "    \n",
    "insertar_Empleados(\"USer\",\"USer\",\"USer\",\"1\")\n",
    "    \n",
    "    "
   ]
  },
  {
   "cell_type": "code",
   "execution_count": 46,
   "metadata": {},
   "outputs": [
    {
     "name": "stdout",
     "output_type": "stream",
     "text": [
      "[{'nombre': 'Administrador', 'usuario': 'ADM', 'contraseña': 'ADM', 'estado': 'activo', 'compania_id': '1'}, {'nombre': 'Usuario de Prueba', 'usuario': 'ADM2', 'contraseña': 'ADM', 'estado': 'activo', 'compania_id': '1'}]\n"
     ]
    }
   ],
   "source": [
    "RANGE = 'empleado!A:F'\n",
    "result = sheet.values().get(spreadsheetId=SPREADSHEET_ID, range=RANGE).execute()\n",
    "values = result.get('values', [])\n",
    "Columnas = values[0]\n",
    "Excluciones = [\"id\"]\n",
    "Lista = []\n",
    "\n",
    "# Iterar sobre las filas de datos, excluyendo la primera fila de encabezados\n",
    "for datos in values[1:]:\n",
    "    item = {}\n",
    "    for col, valor in zip(Columnas, datos):\n",
    "        if col not in Excluciones:\n",
    "            item[col] = valor\n",
    "    Lista.append(item)\n",
    "\n",
    "print(Lista)\n",
    "\n",
    "\n"
   ]
  },
  {
   "cell_type": "code",
   "execution_count": 32,
   "metadata": {},
   "outputs": [
    {
     "data": {
      "text/plain": [
       "['id', 'nombre', 'usuario', 'contraseña', 'estado', 'compania_id']"
      ]
     },
     "execution_count": 32,
     "metadata": {},
     "output_type": "execute_result"
    }
   ],
   "source": [
    "Coumnas"
   ]
  },
  {
   "cell_type": "code",
   "execution_count": 31,
   "metadata": {},
   "outputs": [
    {
     "data": {
      "text/plain": [
       "[{'Hora': 'Hora', 'Hora2': 'Hora'}]"
      ]
     },
     "execution_count": 31,
     "metadata": {},
     "output_type": "execute_result"
    }
   ],
   "source": []
  }
 ],
 "metadata": {
  "kernelspec": {
   "display_name": "Python 3",
   "language": "python",
   "name": "python3"
  },
  "language_info": {
   "codemirror_mode": {
    "name": "ipython",
    "version": 3
   },
   "file_extension": ".py",
   "mimetype": "text/x-python",
   "name": "python",
   "nbconvert_exporter": "python",
   "pygments_lexer": "ipython3",
   "version": "3.10.3"
  }
 },
 "nbformat": 4,
 "nbformat_minor": 2
}
