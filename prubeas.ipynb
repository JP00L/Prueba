{
 "cells": [
  {
   "cell_type": "code",
   "execution_count": 2,
   "metadata": {},
   "outputs": [],
   "source": [
    "import mysql.connector\n",
    "User=\"prueba2\"\n",
    "Pasww=\"admin2023\"\n",
    "Hots='mysql-prueba2.alwaysdata.net'\n",
    "Database=\"prueba2_data\""
   ]
  },
  {
   "cell_type": "code",
   "execution_count": 7,
   "metadata": {},
   "outputs": [
    {
     "data": {
      "text/plain": [
       "{'Datos Comapñia': [{'nombre': 'Administrador',\n",
       "   'usuario': 'ADM',\n",
       "   'estado': 'activo',\n",
       "   'compania_id': 1}]}"
      ]
     },
     "execution_count": 7,
     "metadata": {},
     "output_type": "execute_result"
    }
   ],
   "source": [
    "User=\"prueba2\"\n",
    "Pasww=\"admin2023\"\n",
    "Hots='mysql-prueba2.alwaysdata.net'\n",
    "Database=\"prueba2_data\"\n",
    "\n",
    "def Extracccion(compania_id, MaquinasDeTrabajo=None):\n",
    "    RETORNO=None\n",
    "    try:\n",
    "        consulta = \"SELECT * FROM empleado WHERE compania_id = %s\"\n",
    "        with mysql.connector.connect(user=User, password=Pasww, host=Hots, database=Database) as conexion:\n",
    "            with conexion.cursor() as cursor:\n",
    "                cursor.execute(consulta, (compania_id,))\n",
    "                columnas = cursor.column_names\n",
    "                maquinas = cursor.fetchall()\n",
    "                \n",
    "                columnas_excluir = ['id', 'contraseña'] \n",
    "                Lista = [\n",
    "                    {col: valor for col, valor in zip(columnas, maquina) if col not in columnas_excluir}\n",
    "                    for maquina in maquinas\n",
    "                ]\n",
    "                resultado = {\"Datos Comapñia\": Lista}\n",
    "\n",
    "                if resultado[\"Datos Comapñia\"][0][\"estado\"] == \"activo\":\n",
    "                    RETORNO=resultado\n",
    "\n",
    "                if resultado[\"Datos Comapñia\"][0][\"estado\"] == \"inactivo\":\n",
    "                    return \"Usuario Deshabilitado\"\n",
    "                \n",
    "                if MaquinasDeTrabajo is not None:\n",
    "                    \"Otra Solicitud\"\n",
    "                \n",
    "                return RETORNO\n",
    "    except Exception as e:\n",
    "        return f\"Error en validar_maquina: {str(e)}\"\n",
    "    finally:\n",
    "        if cursor:\n",
    "            cursor.close()\n",
    "        if conexion:\n",
    "            conexion.close()\n",
    "    \n",
    "\n",
    "Extracccion(1)"
   ]
  },
  {
   "cell_type": "code",
   "execution_count": 4,
   "metadata": {},
   "outputs": [
    {
     "ename": "NameError",
     "evalue": "name 'columnas' is not defined",
     "output_type": "error",
     "traceback": [
      "\u001b[1;31m---------------------------------------------------------------------------\u001b[0m",
      "\u001b[1;31mNameError\u001b[0m                                 Traceback (most recent call last)",
      "Cell \u001b[1;32mIn[4], line 1\u001b[0m\n\u001b[1;32m----> 1\u001b[0m \u001b[43mcolumnas\u001b[49m\n",
      "\u001b[1;31mNameError\u001b[0m: name 'columnas' is not defined"
     ]
    }
   ],
   "source": [
    "columnas"
   ]
  }
 ],
 "metadata": {
  "kernelspec": {
   "display_name": "Python 3",
   "language": "python",
   "name": "python3"
  },
  "language_info": {
   "codemirror_mode": {
    "name": "ipython",
    "version": 3
   },
   "file_extension": ".py",
   "mimetype": "text/x-python",
   "name": "python",
   "nbconvert_exporter": "python",
   "pygments_lexer": "ipython3",
   "version": "3.11.3"
  }
 },
 "nbformat": 4,
 "nbformat_minor": 2
}
