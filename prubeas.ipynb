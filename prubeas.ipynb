{
 "cells": [
  {
   "cell_type": "code",
   "execution_count": 1,
   "metadata": {},
   "outputs": [],
   "source": [
    "import mysql.connector\n",
    "User=\"prueba2\"\n",
    "Pasww=\"admin2023\"\n",
    "Hots='mysql-prueba2.alwaysdata.net'\n",
    "Database=\"prueba2_data\""
   ]
  },
  {
   "cell_type": "code",
   "execution_count": 11,
   "metadata": {},
   "outputs": [
    {
     "data": {
      "text/plain": [
       "{'Datos Comapñia': [{'nombre': 'Administrador',\n",
       "   'usuario': 'ADM',\n",
       "   'estado': 'activo',\n",
       "   'compania_id': 1}],\n",
       " 'VtMachine': [{'id': 1,\n",
       "   'cookie': 'ORA_WWV-1tccHYhlCwzDPmMX35OT529b',\n",
       "   'parametro': '7629225422974',\n",
       "   'compania_id': 1,\n",
       "   'estado': 'activo'},\n",
       "  {'id': 2,\n",
       "   'cookie': 'prueba',\n",
       "   'parametro': 'prueba',\n",
       "   'compania_id': 1,\n",
       "   'estado': 'activo'}]}"
      ]
     },
     "execution_count": 11,
     "metadata": {},
     "output_type": "execute_result"
    }
   ],
   "source": [
    "User=\"prueba2\"\n",
    "Pasww=\"admin2023\"\n",
    "Hots='mysql-prueba2.alwaysdata.net'\n",
    "Database=\"prueba2_data\"\n",
    "sesion={'_permanent': True, 'compani_Id': 1, 'loggedin': True, 'username': 'ADM'}\n",
    "def Extracccion(compania_id, Sesion=None,VtMachine=None):\n",
    "    RETORNO=None\n",
    "    try:\n",
    "        consulta = \"SELECT * FROM empleado WHERE compania_id = %s\"\n",
    "        with mysql.connector.connect(user=User, password=Pasww, host=Hots, database=Database) as conexion:\n",
    "            with conexion.cursor() as cursor:\n",
    "                cursor.execute(consulta, (compania_id,))\n",
    "                columnas = cursor.column_names\n",
    "                maquinas = cursor.fetchall()\n",
    "                \n",
    "                columnas_excluir = ['id', 'contraseña'] \n",
    "                Lista = [\n",
    "                    {col: valor for col, valor in zip(columnas, maquina) if col not in columnas_excluir}\n",
    "                    for maquina in maquinas\n",
    "                ]\n",
    "                resultado = {\"Datos Comapñia\": Lista}\n",
    "                \n",
    "                if Sesion[\"username\"] == resultado[\"Datos Comapñia\"][0][\"usuario\"]:\n",
    "                    if resultado[\"Datos Comapñia\"][0][\"estado\"] == \"activo\":\n",
    "                        RETORNO=resultado\n",
    "\n",
    "                    if resultado[\"Datos Comapñia\"][0][\"estado\"] == \"inactivo\":\n",
    "                        return \"Usuario Deshabilitado\"\n",
    "                    \n",
    "                    if VtMachine is not None:\n",
    "                        consulta = \"SELECT * FROM MaquinaDeTrabajo WHERE compania_id = %s\"\n",
    "                        cursor.execute(consulta, (compania_id,))\n",
    "                        columnas = cursor.column_names\n",
    "                        maquinas = cursor.fetchall()\n",
    "                        columnas_excluir = [] \n",
    "                        Lista = [\n",
    "                            {col: valor for col, valor in zip(columnas, maquina) if col not in columnas_excluir}\n",
    "                            for maquina in maquinas\n",
    "                        ]\n",
    "                        \n",
    "                        RETORNO[\"VtMachine\"]=Lista\n",
    "                    return RETORNO\n",
    "                else:\n",
    "                    return \"Usuario Infringió, Los Parámetros Establecidos, Usuario Inhabilitado\"\n",
    "    except Exception as e:\n",
    "        return f\"Error en validar_maquina: {str(e)}\"\n",
    "    finally:\n",
    "        if cursor:\n",
    "            cursor.close()\n",
    "        if conexion:\n",
    "            conexion.close()\n",
    "    \n",
    "\n",
    "Extracccion(1,sesion,True)"
   ]
  },
  {
   "cell_type": "code",
   "execution_count": 6,
   "metadata": {},
   "outputs": [],
   "source": [
    "RETORNO={'Datos Comapñia': [{'nombre': 'Administrador',\n",
    "   'usuario': 'ADM',\n",
    "   'estado': 'activo',\n",
    "   'compania_id': 1}]}\n",
    "\n",
    "RETORNO[\"Otro\"]=[]"
   ]
  },
  {
   "cell_type": "code",
   "execution_count": 7,
   "metadata": {},
   "outputs": [
    {
     "data": {
      "text/plain": [
       "{'Datos Comapñia': [{'nombre': 'Administrador',\n",
       "   'usuario': 'ADM',\n",
       "   'estado': 'activo',\n",
       "   'compania_id': 1}],\n",
       " 'Otro': []}"
      ]
     },
     "execution_count": 7,
     "metadata": {},
     "output_type": "execute_result"
    }
   ],
   "source": []
  }
 ],
 "metadata": {
  "kernelspec": {
   "display_name": "Python 3",
   "language": "python",
   "name": "python3"
  },
  "language_info": {
   "codemirror_mode": {
    "name": "ipython",
    "version": 3
   },
   "file_extension": ".py",
   "mimetype": "text/x-python",
   "name": "python",
   "nbconvert_exporter": "python",
   "pygments_lexer": "ipython3",
   "version": "3.10.3"
  }
 },
 "nbformat": 4,
 "nbformat_minor": 2
}
